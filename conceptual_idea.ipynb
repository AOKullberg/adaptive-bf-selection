{
 "cells": [
  {
   "cell_type": "markdown",
   "id": "17971092-97b2-44b3-a6da-c0d843eeafab",
   "metadata": {},
   "source": [
    "# Explains the conceptual idea of the paper\n",
    "The notebook generates Figure 1 to confirm the validity of the approach."
   ]
  },
  {
   "cell_type": "code",
   "execution_count": null,
   "id": "6cc0db74-6b9d-4b90-b317-1828d55a8ff2",
   "metadata": {},
   "outputs": [],
   "source": [
    "%load_ext autoreload\n",
    "%autoreload 2\n",
    "import jax\n",
    "import optax as ox\n",
    "import gpjax as gpx\n",
    "import jax.numpy as jnp\n",
    "import jax.random as jr\n",
    "import matplotlib.pyplot as plt\n",
    "jax.config.update(\"jax_enable_x64\", True)\n",
    "import seaborn as sns\n",
    "%matplotlib widget\n",
    "sns.set()\n",
    "from dataclasses import dataclass, field\n",
    "from fasthgp.utils import integrate\n",
    "key = jr.PRNGKey(13)"
   ]
  },
  {
   "cell_type": "markdown",
   "id": "c3478e2a-71f3-40db-b106-655a8dcf8f3c",
   "metadata": {},
   "source": [
    "### Generate data"
   ]
  },
  {
   "cell_type": "code",
   "execution_count": null,
   "id": "ff663df3-b5f0-4958-96ad-2c0a5cae194a",
   "metadata": {},
   "outputs": [],
   "source": [
    "s2 = 0.1\n",
    "L = 1\n",
    "key, subkey = jr.split(key)\n",
    "x = jr.uniform(subkey, maxval=2*L, shape=(100,)).sort()-L\n",
    "key, subkey = jr.split(key)\n",
    "f = lambda x: jnp.tanh(x*2*jnp.pi) * jnp.sin(x*2*jnp.pi)\n",
    "y = f(x) + jnp.sqrt(s2)*jr.normal(subkey, shape=x.shape)"
   ]
  },
  {
   "cell_type": "markdown",
   "id": "db76267b-fa34-46a2-af5a-cead40747e40",
   "metadata": {},
   "source": [
    "### RBF model\n",
    "Finds the posterior parameters $(m,V)$ of the RBF model."
   ]
  },
  {
   "cell_type": "code",
   "execution_count": null,
   "id": "a0d3764b-eb1f-4086-bbbe-6922345fe549",
   "metadata": {},
   "outputs": [],
   "source": [
    "def phi(x, c, l):\n",
    "    e = x - c\n",
    "    return jnp.exp(-1/l**2 * jnp.sum(e**2))\n",
    "\n",
    "Phi = jax.vmap(jax.vmap(phi, (None, 0, None), 0), (0, None, None), 0)\n",
    "M = 10\n",
    "c = jnp.linspace(-1, 1, M)\n",
    "l = 0.25\n",
    "m = jnp.linalg.lstsq(Phi(x, c, l), y)[0]\n",
    "V = s2* jnp.linalg.inv(Phi(x, c, l).T @ Phi(x, c, l))"
   ]
  },
  {
   "cell_type": "markdown",
   "id": "afe2c5f6-9ae3-4f46-a1c3-4f51da81bec2",
   "metadata": {},
   "source": [
    "### Identifies the relevant BFs\n",
    "int_ind uses the integral criterion\n",
    "\n",
    "ind uses the simplified criterion"
   ]
  },
  {
   "cell_type": "code",
   "execution_count": null,
   "id": "df1220fc-c53d-495d-8ff3-8b610f3e3457",
   "metadata": {},
   "outputs": [],
   "source": [
    "lims = [-.5, 0] # Omega\n",
    "fun = lambda x, c: jnp.exp(-2/l**2 * jnp.sum((x - c)**2))\n",
    "sc = integrate(jax.vmap(jax.vmap(fun, (None, 0), 0), (0, None), 0), lims, args=[c]) # Numerical integration for simplicity\n",
    "\n",
    "cost = jnp.abs(m)**2\n",
    "int_cost = sc * cost\n",
    "M = 2\n",
    "ind = jnp.argsort(cost)[-M:]\n",
    "int_ind = jnp.argsort(int_cost)[-M:]"
   ]
  },
  {
   "cell_type": "markdown",
   "id": "216edb36-9b99-45ba-a268-010482eac8e0",
   "metadata": {},
   "source": [
    "### Compute predictions on a test grid"
   ]
  },
  {
   "cell_type": "code",
   "execution_count": null,
   "id": "dff55de6-017c-4694-8691-e284061fa627",
   "metadata": {},
   "outputs": [],
   "source": [
    "def model(xtest, m, V, inds=None):\n",
    "    Phit = Phi(xtest, c, l)\n",
    "    if inds is not None:\n",
    "        Phit = Phit[:, inds]\n",
    "        m = m[inds]\n",
    "        V = V[inds[:, None], inds[None, :]]\n",
    "    return Phit @ m, Phit @ V @ Phit.T\n",
    "    \n",
    "xtest = jnp.linspace(-1, 1, 100)\n",
    "mu, S = model(xtest, m, V)\n",
    "mu_ind, S_ind = model(xtest, m, V, ind)\n",
    "mu_int, S_int = model(xtest, m, V, int_ind)"
   ]
  },
  {
   "cell_type": "markdown",
   "id": "f42d0ba9-c8f6-4f76-96df-5a51af3e2e2d",
   "metadata": {},
   "source": [
    "### Generate a mock-up of Figure 1"
   ]
  },
  {
   "cell_type": "code",
   "execution_count": null,
   "id": "5876fc10-fbcc-4acf-9c17-19cb4c0b41f5",
   "metadata": {},
   "outputs": [],
   "source": [
    "def plot_bfs(ax, c, **kwargs):\n",
    "    for ci in c:\n",
    "        xi = jnp.linspace(ci-2*l, ci+2*l, 50)\n",
    "        ax.plot(xi, jax.vmap(phi, (0, None, None), 0)(xi, ci, l)*0.1 + 1.5, linewidth=.5, **kwargs)\n",
    "\n",
    "def conf_int(ax, mu, S, **kwargs):\n",
    "    ub = mu + jnp.sqrt(S.diagonal())\n",
    "    lb = mu - jnp.sqrt(S.diagonal())\n",
    "    l = ax.plot(xtest, mu, **kwargs)[0]\n",
    "    ax.fill_between(xtest, lb, ub, color=l.get_color(), alpha=.3)\n",
    "    return l \n",
    "\n",
    "plt.close(\"all\")\n",
    "fig, ax = plt.subplots()\n",
    "plt.plot(xtest, f(xtest), 'k')\n",
    "conf_int(ax, mu, S, label='Full model')\n",
    "l_ind = conf_int(ax, mu_ind, S_ind, label='Standard')\n",
    "l_int = conf_int(ax, mu_int, S_int, label='Integral')\n",
    "plot_bfs(ax, c[ind], color=l_ind.get_color())\n",
    "plot_bfs(ax, c[int_ind], color=l_int.get_color(), linestyle='--')\n",
    "plt.vlines(lims, ymin=-1.5, ymax=1.5, color='k', label='Integration limits')\n",
    "plt.legend()\n",
    "plt.show()"
   ]
  },
  {
   "cell_type": "markdown",
   "id": "fd25690e-07d8-4f49-8646-e06f1c2bc958",
   "metadata": {},
   "source": [
    "### Save to .csv\n",
    "The paper plot is generated in pgfplots from .csv files."
   ]
  },
  {
   "cell_type": "code",
   "execution_count": null,
   "id": "44747a14-7c41-4add-82dc-74b275d3a5fc",
   "metadata": {},
   "outputs": [],
   "source": [
    "import pandas as pd\n",
    "filenames = [\"rbf_base.csv\", \"rbf_standard.csv\", \"rbf_integral.csv\"]\n",
    "fs = [mu, mu_ind, mu_int]\n",
    "Ss = [S, S_ind, S_int]\n",
    "for i, fname in enumerate(filenames):\n",
    "    with open(fname, \"w\") as file:\n",
    "        pd.DataFrame(dict(x=xtest, f=fs[i], std=jnp.sqrt(Ss[i].diagonal()))).to_csv(file, index=False)"
   ]
  }
 ],
 "metadata": {
  "kernelspec": {
   "display_name": "Python 3 (ipykernel)",
   "language": "python",
   "name": "python3"
  },
  "language_info": {
   "codemirror_mode": {
    "name": "ipython",
    "version": 3
   },
   "file_extension": ".py",
   "mimetype": "text/x-python",
   "name": "python",
   "nbconvert_exporter": "python",
   "pygments_lexer": "ipython3",
   "version": "3.11.5"
  }
 },
 "nbformat": 4,
 "nbformat_minor": 5
}
