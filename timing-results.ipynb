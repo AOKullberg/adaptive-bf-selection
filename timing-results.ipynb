{
 "cells": [
  {
   "cell_type": "code",
   "execution_count": null,
   "id": "a4935e14-6039-4e50-a89f-a5b70a6343fe",
   "metadata": {},
   "outputs": [],
   "source": [
    "import numpy as np\n",
    "import os\n",
    "# Specify the directory of the data.\n",
    "datadir = ''\n",
    "import pandas as pd\n",
    "import yaml\n",
    "import json\n",
    "import matplotlib.pyplot as plt\n",
    "import matplotlib.colors as colors\n",
    "from mpl_toolkits.axes_grid1 import make_axes_locatable\n",
    "%matplotlib widget\n",
    "import seaborn as sns\n",
    "sns.set()"
   ]
  },
  {
   "cell_type": "code",
   "execution_count": null,
   "id": "2c577bee-e716-4eaf-a2ed-107000be6a17",
   "metadata": {},
   "outputs": [],
   "source": [
    "dirs = [os.path.join(datadir, x) for x in next(os.walk(datadir))[1]]\n",
    "dirs.sort(key=lambda x: int(x.split('/')[-1]))"
   ]
  },
  {
   "cell_type": "code",
   "execution_count": null,
   "id": "90f892a3-1e7d-4c62-947e-709e2548cbc1",
   "metadata": {},
   "outputs": [],
   "source": [
    "a = np.load(os.path.join(dirs[0], 'result.npz'))\n",
    "conf = os.path.join(os.path.join(dirs[0], '.hydra'), 'hydra.yaml')\n",
    "with open(conf, \"r\") as file:\n",
    "    d = yaml.safe_load(file)"
   ]
  },
  {
   "cell_type": "markdown",
   "id": "34d975ba-b776-4005-8240-468088737ea0",
   "metadata": {},
   "source": [
    "### Read experiment results"
   ]
  },
  {
   "cell_type": "code",
   "execution_count": null,
   "id": "4e104e2d-d7da-45b3-b7a0-98993544350b",
   "metadata": {},
   "outputs": [],
   "source": [
    "import pdb\n",
    "def read_results(dirs, sweeped):\n",
    "    alg = None\n",
    "    results = {}\n",
    "    for path in dirs:\n",
    "        conf = os.path.join(os.path.join(path, '.hydra'), 'hydra.yaml')\n",
    "        with open(conf, \"r\") as file:\n",
    "            d = yaml.safe_load(file)\n",
    "        try:\n",
    "            data = dict(np.load(os.path.join(path, 'result.npz')))\n",
    "            adata = dict(np.load(os.path.join(path, 'aresult.npz')))\n",
    "        except:\n",
    "            continue\n",
    "    \n",
    "        for override in d['hydra']['overrides']['task']:\n",
    "            if 'alg=' in override:\n",
    "                alg = override.split(\"=\")[-1]\n",
    "        if alg is None:\n",
    "            with open(os.path.join(os.path.join(path, '.hydra'), 'config.yaml'), \"r\") as file:\n",
    "                d = yaml.safe_load(file)\n",
    "            alg = d['alg']['_target_'].split('.')[-1]\n",
    "        aalg = 'A' + alg        \n",
    "        if alg in results.keys():\n",
    "            for key, val in data.items():\n",
    "                results[alg][key].append(val)\n",
    "            for key, val in adata.items():\n",
    "                results[aalg][key].append(adata[key])\n",
    "        else:\n",
    "            results[alg] = {key: [val] for key, val in data.items()}\n",
    "            results[aalg] = {key: [val] for key, val in adata.items()}\n",
    "        alg = None\n",
    "    return results"
   ]
  },
  {
   "cell_type": "markdown",
   "id": "f54ada22-7c8c-410b-a9b7-d4f513bd4902",
   "metadata": {},
   "source": [
    "### Different fractions"
   ]
  },
  {
   "cell_type": "code",
   "execution_count": null,
   "id": "b1a86fe6-0335-4a55-bd50-660a29d96767",
   "metadata": {},
   "outputs": [],
   "source": [
    "%pdb on\n",
    "results = read_results(dirs, \"fraction\")"
   ]
  },
  {
   "cell_type": "code",
   "execution_count": null,
   "id": "af921dee-5dea-431c-9e0f-63d818858046",
   "metadata": {},
   "outputs": [],
   "source": [
    "alg = 'AHGP'\n",
    "m = len(results[alg]['fraction'][0])\n",
    "d_results = {}\n",
    "for alg in results.keys():\n",
    "    d_results[alg] = {}\n",
    "    if \"fraction\" in results[alg].keys():\n",
    "        for metric in results[alg].keys():\n",
    "            d_results[alg][metric] = np.array(results[alg][metric])\n",
    "    else:\n",
    "        for metric in results[alg].keys():\n",
    "            d_results[alg][metric] = np.array(results[alg][metric]).repeat(m).reshape(-1, m)"
   ]
  },
  {
   "cell_type": "markdown",
   "id": "a1ddce9a-0baa-405a-acb7-5914641b2361",
   "metadata": {},
   "source": [
    "### Save results to csv\n",
    "This saves to a .csv to produce the data necessary to recreate Figure 2 in the paper -- the figure itself is constructed in pgfplots."
   ]
  },
  {
   "cell_type": "code",
   "execution_count": null,
   "id": "2a841f7b-4a12-441a-a5ef-138471343d3d",
   "metadata": {},
   "outputs": [],
   "source": [
    "alg = 'AHGP'\n",
    "to_save = dict()\n",
    "to_save['x'] = d_results[alg]['fraction']\n",
    "to_save['m'] = d_results[alg]['m']\n",
    "to_save['M'] = d_results[alg[1:]]['m']\n",
    "# to_save['kl'] = d_results[alg]['kl']\n",
    "# to_save['rmse'] = d_results[alg]['rmse']\n",
    "for key in ['kl', 'rmse', 'nlpd', 'time_max', 'time_min']:\n",
    "    to_save[key] = d_results[alg][key] / d_results[alg[1:]][key]\n",
    "to_save = pd.DataFrame({key: val.T.flatten() for key, val in to_save.items()})\n",
    "with open(\"adaptiveselection.csv\", \"w\") as file:\n",
    "    to_save.to_csv(file, index=False)"
   ]
  },
  {
   "cell_type": "markdown",
   "id": "2e130467-a582-4244-9813-4c648d99805d",
   "metadata": {},
   "source": [
    "### Recreate Additional Table\n",
    "The additional material contains a table -- this is recreated below. The table itself is TeX-primitives."
   ]
  },
  {
   "cell_type": "code",
   "execution_count": null,
   "id": "643563d3-5462-4dd1-aa85-ef8cac3a48d2",
   "metadata": {},
   "outputs": [],
   "source": [
    "fractions = np.array([4, 7, 9])\n",
    "Ls = np.array([3, 6, 12, 18])\n",
    "d_results['AHGP'].keys()\n",
    "t_results = {}\n",
    "for alg in d_results.keys():\n",
    "    t_results[alg] = {metric: d_results[alg][metric][Ls[:,None], fractions].flatten() for metric in d_results[alg].keys()}\n",
    "t_results['HGP']['fraction'] = t_results['AHGP']['fraction']\n",
    "t_results['AHGP']['m'] = t_results['HGP']['m']\n",
    "\n",
    "ahgp_df = pd.DataFrame(t_results['AHGP']).assign(alg=['AHGP']*12)\n",
    "hgp_df = pd.DataFrame(t_results['HGP']).assign(alg=['HGP']*12)\n",
    "df = pd.concat([ahgp_df, hgp_df]).set_index(['m', 'fraction', 'alg']).sort_index()\n",
    "\n",
    "aggf = lambda x, scale: \"{:.3f}/{:.3f}\".format(x.loc[:, :, 'AHGP'].values[0]/scale, x.loc[:, :, 'HGP'].values[0]/scale)\n",
    "grouped = df.groupby(by=['m', 'fraction'], group_keys=False).agg({'kl': lambda x: aggf(x, 1e4),\n",
    "                                                       'nlpd': lambda x: aggf(x, 1e2),\n",
    "                                                       'rmse': lambda x: aggf(x, 1e-1),\n",
    "                                                       'time_min': lambda x: aggf(x, 1),\n",
    "                                                       'time_max': lambda x: aggf(x, 1)})"
   ]
  },
  {
   "cell_type": "markdown",
   "id": "75cc2f8d-97a7-4d2e-9c4f-70c79f4c97f2",
   "metadata": {},
   "source": [
    "##### Map the colors from Figure 2 to the Table"
   ]
  },
  {
   "cell_type": "code",
   "execution_count": null,
   "id": "cfe846cb-4f7c-4c14-a159-e1d849130086",
   "metadata": {},
   "outputs": [],
   "source": [
    "import matplotlib as mpl\n",
    "cmap = mpl.colors.LinearSegmentedColormap.from_list(\"\", np.flip(np.array([[202,0,32, 255],\n",
    "[244,165,130, 255],\n",
    "[247,247,247, 255],\n",
    "[146,197,222, 255],\n",
    "[5,113,176, 255]])/255, axis=0)).resampled(5)\n",
    "\n",
    "A = grouped.to_numpy()\n",
    "B = np.vectorize(eval)(A)\n",
    "time_norm = mpl.colors.Normalize(vmin=0, vmax=2)\n",
    "prob_norm = mpl.colors.Normalize(vmin=1, vmax=3)\n",
    "rms_norm = mpl.colors.Normalize(vmin=1, vmax=2)\n",
    "C_prob = cmap(prob_norm(B[:,:2]))\n",
    "C_rms = cmap(rms_norm(B[:, [2]]))\n",
    "C_time = cmap(time_norm(B[:, 3:]))\n",
    "C = np.concatenate([C_prob,C_rms,C_time],axis=1)"
   ]
  },
  {
   "cell_type": "markdown",
   "id": "67fd0e30-97b3-407f-90ff-c67374155b40",
   "metadata": {},
   "source": [
    "##### Recreate the Table in Figure form\n",
    "Note that this is *not* how the table is created, but more or less at least."
   ]
  },
  {
   "cell_type": "code",
   "execution_count": null,
   "id": "175e26a1-ae5f-4d28-84ca-c6c1ae43df56",
   "metadata": {},
   "outputs": [],
   "source": [
    "import tikzplotlib\n",
    "plt.close(\"all\")\n",
    "with sns.axes_style(\"white\"):\n",
    "    fig, ax = plt.subplots(1, 1, figsize=(9, 6))\n",
    "    # pc = plt.pcolor(B, edgecolors='k', linestyle=\"dashed\", linewidth=0.2, vmin=0, vmax=2, cmap=cmap.resampled(5))\n",
    "    pc = plt.pcolormesh(C, edgecolor='k', linestyle=\"dashed\", linewidth=.2)\n",
    "    # ax.set_aspect('equal', 'box')\n",
    "    ax.set_yticks(np.arange(B.shape[0]) + 0.5, minor=False)\n",
    "    ax.set_xticks(np.arange(B.shape[1]) + 0.5, minor=False)\n",
    "    pc.update_scalarmappable()\n",
    "    ax = pc.axes\n",
    "    fmt = \"%.2f\"\n",
    "    for p, color, value in zip(pc.get_paths(), pc.get_facecolors().reshape(-1, 4), A.flatten()):\n",
    "        x, y = p.vertices[:-2, :].mean(0)\n",
    "        if np.all(color[:3] > 0.5):\n",
    "            color = (0.0, 0.0, 0.0)\n",
    "        else:\n",
    "            color = (1.0, 1.0, 1.0)\n",
    "        v = value.split(\"/\")\n",
    "        # if x < 1:\n",
    "        s = value.replace(\"/\", \" (\") + \")\"\n",
    "        txt = r'$\\frac{{{}}}{{{}}}$'.format(v[0], v[1])\n",
    "        ax.text(x-.166, y+.166, s, ha=\"center\", va=\"center\", color=color, fontsize=10)\n",
    "    ax.tick_params(top=False, labeltop=True, bottom=False, labelbottom=False, left=False)\n",
    "    ax.set_xticklabels([r\"kl $(10^4)$\", r\"nlpd $(10^2)$\", r\"rmse $(10^{-1})$\", r\"$t_{min}$\", r\"$t_{max}$\"])\n",
    "    ax.invert_yaxis()\n",
    "    ax.set_yticklabels(list(grouped.index.levels[1].to_numpy()) * 4)\n",
    "    ax2 = ax.twinx()\n",
    "    ax2.set(ylim=ax.get_ylim(), yticks=[0.5, 3.5, 6.5, 9.5])\n",
    "    ax2.set_yticklabels(list(grouped.index.levels[0].to_numpy()))\n",
    "    ax2.tick_params(left=False, right=False, labelleft=True, labelright=False, pad=45)\n",
    "    # tikzplotlib.save(\"timing_table.tex\", standalone=True)\n",
    "    plt.show()"
   ]
  },
  {
   "cell_type": "markdown",
   "id": "cfa713e7-d81c-4d1f-a51f-676c88f61b24",
   "metadata": {},
   "source": [
    "## Mock-ups of Figure 2\n",
    "The figure will likely not be identical to the paper -- it's a random function and the predictive time depends on the platform."
   ]
  },
  {
   "cell_type": "code",
   "execution_count": null,
   "id": "40c15b8d-19d8-4e49-a68a-33c8104d1542",
   "metadata": {},
   "outputs": [],
   "source": [
    "alg = 'AHGP'\n",
    "minmaxes = [(1, 3), (1, 3), (1, 2), (0, 2)]\n",
    "plt.close(\"all\")\n",
    "fig, ax = plt.subplots(2, 2, figsize=(8, 8))\n",
    "for i, key in enumerate(['kl', 'nlpd', 'rmse', 'time_min']):\n",
    "    axi = ax[i//2, i%2]\n",
    "    C = d_results[alg][key] / d_results[alg[1:]][key]\n",
    "    pc = axi.pcolormesh(d_results[alg]['fraction'], d_results[alg[1:]]['m'], C, edgecolor='gray', linewidth=.1,\n",
    "                        cmap=cmap,\n",
    "                        vmin=minmaxes[i][0],\n",
    "                        vmax=minmaxes[i][1])\n",
    "    axi.set(yscale=\"log\", xscale=\"log\", \n",
    "            ylim=[d_results[alg[1:]]['m'].min(), d_results[alg[1:]]['m'].max()],\n",
    "            xlim=[d_results[alg]['fraction'].min(), d_results[alg]['fraction'].max()],\n",
    "           title=key)\n",
    "plt.show()"
   ]
  }
 ],
 "metadata": {
  "kernelspec": {
   "display_name": "Python 3 (ipykernel)",
   "language": "python",
   "name": "python3"
  },
  "language_info": {
   "codemirror_mode": {
    "name": "ipython",
    "version": 3
   },
   "file_extension": ".py",
   "mimetype": "text/x-python",
   "name": "python",
   "nbconvert_exporter": "python",
   "pygments_lexer": "ipython3",
   "version": "3.11.5"
  }
 },
 "nbformat": 4,
 "nbformat_minor": 5
}
